{
  "nbformat": 4,
  "nbformat_minor": 0,
  "metadata": {
    "colab": {
      "provenance": [],
      "gpuType": "V28",
      "authorship_tag": "ABX9TyMogrh4hSyZUSvP6ldJO3o5",
      "include_colab_link": true
    },
    "kernelspec": {
      "name": "python3",
      "display_name": "Python 3"
    },
    "language_info": {
      "name": "python"
    },
    "accelerator": "TPU"
  },
  "cells": [
    {
      "cell_type": "markdown",
      "metadata": {
        "id": "view-in-github",
        "colab_type": "text"
      },
      "source": [
        "<a href=\"https://colab.research.google.com/github/lawrencemillard/src/blob/main/VPS.ipynb\" target=\"_parent\"><img src=\"https://colab.research.google.com/assets/colab-badge.svg\" alt=\"Open In Colab\"/></a>"
      ]
    },
    {
      "cell_type": "code",
      "execution_count": null,
      "metadata": {
        "colab": {
          "base_uri": "https://localhost:8080/"
        },
        "id": "FL4ArFm9dFfm",
        "outputId": "ae9a0cd7-6a20-4dcf-dd4e-5e01860d25db"
      },
      "outputs": [
        {
          "output_type": "stream",
          "name": "stdout",
          "text": [
            "\u001b[0m\u001b[35;1m↯ Downloading sshx from \u001b[4mhttps://s3.amazonaws.com/sshx/sshx-x86_64-unknown-linux-musl.tar.gz\u001b[0m\n",
            "  % Total    % Received % Xferd  Average Speed   Time    Time     Time  Current\n",
            "                                 Dload  Upload   Total   Spent    Left  Speed\n",
            "100 2971k  100 2971k    0     0  6833k      0 --:--:-- --:--:-- --:--:-- 6832k\n",
            "\n",
            "\u001b[0m\u001b[35;1m↯ Adding sshx binary to \u001b[4m/tmp/tmp.bWM0KUCFg5\u001b[0m\n",
            "\n",
            "\u001b[0m\u001b[35;1m↯ Done! You can now run sshx.\u001b[0m\n",
            "\n",
            "  \u001b[1;32msshx\u001b[0m \u001b[32mv0.2.5\u001b[0m\n",
            "\n",
            "  \u001b[32m➜\u001b[0m  Link:  \u001b[4;36mhttps://sshx.io/s/YoY84cSzjQ#ArWlxjutGbN7cj\u001b[0m\n",
            "  \u001b[32m➜\u001b[0m  Shell: \u001b[38;5;8m/bin/bash\u001b[0m\n",
            "\n"
          ]
        }
      ],
      "source": [
        "!curl -sSf https://sshx.io/get | sh -s run"
      ]
    }
  ]
}